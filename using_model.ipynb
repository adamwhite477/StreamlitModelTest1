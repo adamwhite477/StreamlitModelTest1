{
 "cells": [
  {
   "cell_type": "code",
   "execution_count": 3,
   "metadata": {},
   "outputs": [],
   "source": [
    "from fastai.vision.all import *\n",
    "model = load_learner(\"model1.pkl\")"
   ]
  },
  {
   "cell_type": "code",
   "execution_count": 5,
   "metadata": {},
   "outputs": [
    {
     "data": {
      "text/html": [],
      "text/plain": [
       "<IPython.core.display.HTML object>"
      ]
     },
     "metadata": {},
     "output_type": "display_data"
    },
    {
     "name": "stdout",
     "output_type": "stream",
     "text": [
      "This is a : country album\n",
      "Probability it's country: 0.99\n"
     ]
    }
   ],
   "source": [
    "genre,_,probs = model.predict(\"country_test_1.jpg\")\n",
    "print(\"This is a : {} album\".format(genre))\n",
    "print(\"Probability it's {}: {:.2f}\".format(genre, probs[0]))"
   ]
  },
  {
   "cell_type": "code",
   "execution_count": 12,
   "metadata": {},
   "outputs": [
    {
     "data": {
      "text/html": [],
      "text/plain": [
       "<IPython.core.display.HTML object>"
      ]
     },
     "metadata": {},
     "output_type": "display_data"
    },
    {
     "name": "stdout",
     "output_type": "stream",
     "text": [
      "This is a: country album\n",
      "Probability it's country: 0.89\n"
     ]
    }
   ],
   "source": [
    "genre,_,probs = model.predict(\"rap_test_1.jpg\")\n",
    "print(\"This is a {} album\".format(genre))\n",
    "print(\"Probability it's {}: {:.2f}\".format(genre, probs[0]))"
   ]
  },
  {
   "cell_type": "code",
   "execution_count": 8,
   "metadata": {},
   "outputs": [
    {
     "data": {
      "text/html": [],
      "text/plain": [
       "<IPython.core.display.HTML object>"
      ]
     },
     "metadata": {},
     "output_type": "display_data"
    },
    {
     "name": "stdout",
     "output_type": "stream",
     "text": [
      "This is a : rock album\n",
      "Probability it's rock: 0.09\n"
     ]
    }
   ],
   "source": [
    "genre,_,probs = model.predict(\"rap_test_2.jpg\")\n",
    "print(\"This is a : {} album\".format(genre))\n",
    "print(\"Probability it's {}: {:.2f}\".format(genre, probs[0]))"
   ]
  },
  {
   "cell_type": "code",
   "execution_count": 10,
   "metadata": {},
   "outputs": [
    {
     "data": {
      "text/html": [],
      "text/plain": [
       "<IPython.core.display.HTML object>"
      ]
     },
     "metadata": {},
     "output_type": "display_data"
    },
    {
     "name": "stdout",
     "output_type": "stream",
     "text": [
      "This is a : rap album\n",
      "Probability it's rap: 0.30\n"
     ]
    }
   ],
   "source": [
    "genre,_,probs = model.predict(\"rap_test_3.jpeg\")\n",
    "print(\"This is a : {} album\".format(genre))\n",
    "print(\"Probability it's {}: {:.2f}\".format(genre, probs[0]))"
   ]
  },
  {
   "cell_type": "code",
   "execution_count": 11,
   "metadata": {},
   "outputs": [
    {
     "data": {
      "text/html": [],
      "text/plain": [
       "<IPython.core.display.HTML object>"
      ]
     },
     "metadata": {},
     "output_type": "display_data"
    },
    {
     "name": "stdout",
     "output_type": "stream",
     "text": [
      "This is a : rock album\n",
      "Probability it's rock: 0.29\n"
     ]
    }
   ],
   "source": [
    "genre,_,probs = model.predict(\"rap_test_4.jpg\")\n",
    "print(\"This is a : {} album\".format(genre))\n",
    "print(\"Probability it's {}: {:.2f}\".format(genre, probs[0]))"
   ]
  }
 ],
 "metadata": {
  "kernelspec": {
   "display_name": "base",
   "language": "python",
   "name": "python3"
  },
  "language_info": {
   "codemirror_mode": {
    "name": "ipython",
    "version": 3
   },
   "file_extension": ".py",
   "mimetype": "text/x-python",
   "name": "python",
   "nbconvert_exporter": "python",
   "pygments_lexer": "ipython3",
   "version": "3.8.8"
  },
  "orig_nbformat": 4,
  "vscode": {
   "interpreter": {
    "hash": "0161883e51f872ee530dcc1e0e8b8543e2dea8afb012225f2dc140a07a61508f"
   }
  }
 },
 "nbformat": 4,
 "nbformat_minor": 2
}
